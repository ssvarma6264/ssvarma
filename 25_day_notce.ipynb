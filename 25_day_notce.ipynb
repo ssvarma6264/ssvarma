{
  "nbformat": 4,
  "nbformat_minor": 0,
  "metadata": {
    "colab": {
      "provenance": [],
      "collapsed_sections": []
    },
    "kernelspec": {
      "name": "python3",
      "display_name": "Python 3"
    },
    "language_info": {
      "name": "python"
    }
  },
  "cells": [
    {
      "cell_type": "code",
      "execution_count": 1,
      "metadata": {
        "colab": {
          "base_uri": "https://localhost:8080/"
        },
        "id": "rkX68b5k4aXg",
        "outputId": "13110ada-de4f-45c8-8606-73d9bdac29dc"
      },
      "outputs": [
        {
          "output_type": "stream",
          "name": "stdout",
          "text": [
            "Good Afternoon\n"
          ]
        }
      ],
      "source": [
        "print (\"Good Afternoon\")"
      ]
    },
    {
      "cell_type": "markdown",
      "source": [
        "#Comments"
      ],
      "metadata": {
        "id": "WrVV72Zw7SsP"
      }
    },
    {
      "cell_type": "code",
      "source": [
        "#comments"
      ],
      "metadata": {
        "id": "0a0s4bui7Qy0"
      },
      "execution_count": 2,
      "outputs": []
    },
    {
      "cell_type": "markdown",
      "source": [
        "## comments"
      ],
      "metadata": {
        "id": "XipI-qdB7ZE5"
      }
    },
    {
      "cell_type": "markdown",
      "source": [
        "variables"
      ],
      "metadata": {
        "id": "ma_7bnIr7mA5"
      }
    },
    {
      "cell_type": "code",
      "source": [
        "x = 20\n",
        "print(x\n",
        "    )"
      ],
      "metadata": {
        "colab": {
          "base_uri": "https://localhost:8080/"
        },
        "id": "dU4XADfH7X23",
        "outputId": "019c5b06-361d-45aa-b201-9e0d011476d8"
      },
      "execution_count": 3,
      "outputs": [
        {
          "output_type": "stream",
          "name": "stdout",
          "text": [
            "20\n"
          ]
        }
      ]
    },
    {
      "cell_type": "code",
      "source": [
        "y = 30\n",
        "print(y)"
      ],
      "metadata": {
        "colab": {
          "base_uri": "https://localhost:8080/"
        },
        "id": "9ePI7VNg7uhI",
        "outputId": "68d2c42b-d4a2-499f-b70a-bfa206547921"
      },
      "execution_count": 4,
      "outputs": [
        {
          "output_type": "stream",
          "name": "stdout",
          "text": [
            "30\n"
          ]
        }
      ]
    },
    {
      "cell_type": "code",
      "source": [
        "z = x+y\n",
        "print(\"x+y =\",\n",
        "    z)"
      ],
      "metadata": {
        "colab": {
          "base_uri": "https://localhost:8080/"
        },
        "id": "P5aGPITM7yRj",
        "outputId": "8660d2a9-9464-473b-8c13-5f70d275e204"
      },
      "execution_count": 9,
      "outputs": [
        {
          "output_type": "stream",
          "name": "stdout",
          "text": [
            "x+y = 50\n"
          ]
        }
      ]
    },
    {
      "cell_type": "code",
      "source": [
        "a = 2+3j\n",
        "type(a)\n"
      ],
      "metadata": {
        "colab": {
          "base_uri": "https://localhost:8080/"
        },
        "id": "lGywqLGl73WE",
        "outputId": "ee47f816-8872-4f98-f25d-57458c797de1"
      },
      "execution_count": 11,
      "outputs": [
        {
          "output_type": "execute_result",
          "data": {
            "text/plain": [
              "complex"
            ]
          },
          "metadata": {},
          "execution_count": 11
        }
      ]
    },
    {
      "cell_type": "code",
      "source": [
        "language = \"python\"\n",
        "print(f\"Hi welcome to class of {language} language\")"
      ],
      "metadata": {
        "colab": {
          "base_uri": "https://localhost:8080/"
        },
        "id": "8AEo1v6N8l_O",
        "outputId": "2be4ca83-29a1-4c38-b3f5-d6d6b82d761f"
      },
      "execution_count": 12,
      "outputs": [
        {
          "output_type": "stream",
          "name": "stdout",
          "text": [
            "Hi welcome to class of python language\n"
          ]
        }
      ]
    },
    {
      "cell_type": "code",
      "source": [
        "a = 24\n",
        "b = 25\n",
        "c = a + b"
      ],
      "metadata": {
        "id": "q6Hsp8A394Ws"
      },
      "execution_count": 13,
      "outputs": []
    },
    {
      "cell_type": "code",
      "source": [
        "print(c)\n"
      ],
      "metadata": {
        "colab": {
          "base_uri": "https://localhost:8080/"
        },
        "id": "CsTSiorR-TqB",
        "outputId": "04dcc932-7688-4221-8398-5cb177491720"
      },
      "execution_count": 14,
      "outputs": [
        {
          "output_type": "stream",
          "name": "stdout",
          "text": [
            "49\n"
          ]
        }
      ]
    },
    {
      "cell_type": "code",
      "source": [
        "print(f\"The sum of two numbers a: {a} and b: {b} is {c}\")"
      ],
      "metadata": {
        "colab": {
          "base_uri": "https://localhost:8080/"
        },
        "id": "xH7rg3Vv-WBz",
        "outputId": "0c6a0426-c31e-44e4-ef92-8b4c9e89ab16"
      },
      "execution_count": 15,
      "outputs": [
        {
          "output_type": "stream",
          "name": "stdout",
          "text": [
            "The sum of two numbers a: 24 and b: 25 is 49\n"
          ]
        }
      ]
    },
    {
      "cell_type": "code",
      "source": [
        "print = \"Hi There\""
      ],
      "metadata": {
        "id": "ZWsFOp3m-nyX"
      },
      "execution_count": 16,
      "outputs": []
    },
    {
      "cell_type": "code",
      "source": [
        "print(\"Hi There\")"
      ],
      "metadata": {
        "colab": {
          "base_uri": "https://localhost:8080/",
          "height": 165
        },
        "id": "QCrOUe7PL7hJ",
        "outputId": "e3352ab4-773b-4dc4-d690-de7fd0d6c634"
      },
      "execution_count": 17,
      "outputs": [
        {
          "output_type": "error",
          "ename": "TypeError",
          "evalue": "ignored",
          "traceback": [
            "\u001b[0;31m---------------------------------------------------------------------------\u001b[0m",
            "\u001b[0;31mTypeError\u001b[0m                                 Traceback (most recent call last)",
            "\u001b[0;32m<ipython-input-17-1877e0fabeaf>\u001b[0m in \u001b[0;36m<module>\u001b[0;34m\u001b[0m\n\u001b[0;32m----> 1\u001b[0;31m \u001b[0mprint\u001b[0m\u001b[0;34m(\u001b[0m\u001b[0;34m\"Hi There\"\u001b[0m\u001b[0;34m)\u001b[0m\u001b[0;34m\u001b[0m\u001b[0;34m\u001b[0m\u001b[0m\n\u001b[0m",
            "\u001b[0;31mTypeError\u001b[0m: 'str' object is not callable"
          ]
        }
      ]
    },
    {
      "cell_type": "code",
      "source": [
        "del print"
      ],
      "metadata": {
        "id": "QH3ZLd1HMN1S"
      },
      "execution_count": 18,
      "outputs": []
    },
    {
      "cell_type": "code",
      "source": [
        "print (\"Hi There\")"
      ],
      "metadata": {
        "colab": {
          "base_uri": "https://localhost:8080/"
        },
        "id": "vRPVu3yYMQUA",
        "outputId": "1c86e273-1092-4a74-e1b8-aa6de055ad60"
      },
      "execution_count": 19,
      "outputs": [
        {
          "output_type": "stream",
          "name": "stdout",
          "text": [
            "Hi There\n"
          ]
        }
      ]
    },
    {
      "cell_type": "code",
      "source": [],
      "metadata": {
        "id": "sUNR-OaqMj3e"
      },
      "execution_count": null,
      "outputs": []
    },
    {
      "cell_type": "markdown",
      "source": [
        "# User Input\n"
      ],
      "metadata": {
        "id": "QAHZuovCPVcQ"
      }
    },
    {
      "cell_type": "code",
      "source": [
        "name = input(\"Enter the name :\")\n",
        "print(f\"your entered name is {name}\")"
      ],
      "metadata": {
        "colab": {
          "base_uri": "https://localhost:8080/"
        },
        "id": "xwKrRd6YPY9H",
        "outputId": "cb26017b-1ad3-439f-f11c-efadae86e477"
      },
      "execution_count": 22,
      "outputs": [
        {
          "output_type": "stream",
          "name": "stdout",
          "text": [
            "Enter the name :sunny\n",
            "your entered name is sunny\n"
          ]
        }
      ]
    },
    {
      "cell_type": "code",
      "source": [
        "A = int(input( \"enter the value of A:\"))\n",
        "B = int(input(\"enter the value of B :\"))\n",
        "print(f\"the sum of two numbers is {A+B}\")"
      ],
      "metadata": {
        "colab": {
          "base_uri": "https://localhost:8080/"
        },
        "id": "1P8hkwFoQJP-",
        "outputId": "59b867b9-f473-4596-d048-8bd772242c07"
      },
      "execution_count": 24,
      "outputs": [
        {
          "output_type": "stream",
          "name": "stdout",
          "text": [
            "enter the value of A:22\n",
            "enter the value of B :23\n",
            "the sum of two numbers is 45\n"
          ]
        }
      ]
    },
    {
      "cell_type": "code",
      "source": [
        "firstname , middlename , surname = \"sindiri\", \"sai\" , \"varma\""
      ],
      "metadata": {
        "id": "IRIeT6mMRqr5"
      },
      "execution_count": 28,
      "outputs": []
    },
    {
      "cell_type": "code",
      "source": [
        "print(f\"{firstname}.{surname} @gmail.com\")"
      ],
      "metadata": {
        "colab": {
          "base_uri": "https://localhost:8080/"
        },
        "id": "J5KPeTGxWy4P",
        "outputId": "caf69bbc-a3a9-4ef6-a7e7-8164d262bcaa"
      },
      "execution_count": 31,
      "outputs": [
        {
          "output_type": "stream",
          "name": "stdout",
          "text": [
            "sindiri.varma @gmail.com\n"
          ]
        }
      ]
    },
    {
      "cell_type": "code",
      "source": [
        "# calcualte the age of the user\n",
        "\n",
        "name = input(\"Name: \") # always gives you string values\n",
        "place = input(\"place: \")\n",
        "year_of_birth = input(\"year_of_birth: \") # convert this into integer\n",
        "current_year = input(\"current year: \")\n",
        "age = int(current_year) - int(year_of_birth)\n",
        "\n",
        "print(f\"\"\"\n",
        "My name is: {name}\n",
        "I live at: {place}\n",
        "{name} is of age: {age}\n",
        "\"\"\")"
      ],
      "metadata": {
        "colab": {
          "base_uri": "https://localhost:8080/"
        },
        "id": "6AOdcyUkXwJw",
        "outputId": "520c1e26-2af5-461e-e73e-c8f8802ae754"
      },
      "execution_count": 32,
      "outputs": [
        {
          "output_type": "stream",
          "name": "stdout",
          "text": [
            "Name: varma\n",
            "place: hyd\n",
            "year_of_birth: 1998\n",
            "current year: 2022\n",
            "\n",
            "My name is: varma\n",
            "I live at: hyd\n",
            "varma is of age: 24\n",
            "\n"
          ]
        }
      ]
    },
    {
      "cell_type": "code",
      "source": [
        "a = 22\n",
        "b = 23\n",
        "c = 23.0\n",
        "print(id(a) , id(b), id(c))"
      ],
      "metadata": {
        "colab": {
          "base_uri": "https://localhost:8080/"
        },
        "id": "fxk6UPNue_ID",
        "outputId": "f076f736-b077-4bfc-ffa8-f2a182210ebe"
      },
      "execution_count": 33,
      "outputs": [
        {
          "output_type": "stream",
          "name": "stdout",
          "text": [
            "11123264 11123296 139851840340688\n"
          ]
        }
      ]
    },
    {
      "cell_type": "code",
      "source": [
        "a = 2\n",
        "b = 2\n",
        "print(a + b)"
      ],
      "metadata": {
        "colab": {
          "base_uri": "https://localhost:8080/"
        },
        "id": "KsH_jdFJhnQD",
        "outputId": "449cd2d1-6842-40b6-b5ce-9187a9de9572"
      },
      "execution_count": 34,
      "outputs": [
        {
          "output_type": "stream",
          "name": "stdout",
          "text": [
            "4\n"
          ]
        }
      ]
    },
    {
      "cell_type": "code",
      "source": [
        "print(a*b)"
      ],
      "metadata": {
        "colab": {
          "base_uri": "https://localhost:8080/"
        },
        "id": "OmP8s8STjiPH",
        "outputId": "b8597494-153c-4346-e232-79f96338a522"
      },
      "execution_count": 35,
      "outputs": [
        {
          "output_type": "stream",
          "name": "stdout",
          "text": [
            "4\n"
          ]
        }
      ]
    },
    {
      "cell_type": "code",
      "source": [
        "print(a/b)"
      ],
      "metadata": {
        "colab": {
          "base_uri": "https://localhost:8080/"
        },
        "id": "AW5hTPY7jlgH",
        "outputId": "e6529cf4-f149-4d58-f468-5794deb82a91"
      },
      "execution_count": 36,
      "outputs": [
        {
          "output_type": "stream",
          "name": "stdout",
          "text": [
            "1.0\n"
          ]
        }
      ]
    },
    {
      "cell_type": "code",
      "source": [
        "print(a**a)"
      ],
      "metadata": {
        "colab": {
          "base_uri": "https://localhost:8080/"
        },
        "id": "H1PC_PXJjoAz",
        "outputId": "5ef90730-c5f5-490f-c2cd-dff6f9f6cf85"
      },
      "execution_count": 37,
      "outputs": [
        {
          "output_type": "stream",
          "name": "stdout",
          "text": [
            "4\n"
          ]
        }
      ]
    },
    {
      "cell_type": "code",
      "source": [
        "last_name = input(\"enter the last_name : \")\n",
        "first_name = input(\"enter the first_name : \")\n",
        "print(f\"{last_name}.{first_name}@gmail.com\")"
      ],
      "metadata": {
        "colab": {
          "base_uri": "https://localhost:8080/"
        },
        "id": "iIR-h9i5juCq",
        "outputId": "506c7647-3b39-4764-b065-9975255d7d6b"
      },
      "execution_count": 39,
      "outputs": [
        {
          "output_type": "stream",
          "name": "stdout",
          "text": [
            "enter the last_name : varma\n",
            "enter the first_name : sai\n",
            "varma.sai@gmail.com\n"
          ]
        }
      ]
    },
    {
      "cell_type": "code",
      "source": [
        "name = input(\"enter the name:\")\n",
        "address = input(\"enter the address:\")\n",
        "dob = input(\"enter the dob:\")\n",
        "email_id = input(\"enter the email_id:\")\n",
        "print(f\"\"\"name:{name}\n",
        "      address:{address}\n",
        "      dob:{dob}\n",
        "      email_id:{email_id}\"\"\")"
      ],
      "metadata": {
        "colab": {
          "base_uri": "https://localhost:8080/"
        },
        "id": "HJvYK02uktRW",
        "outputId": "492a72c3-066c-4c08-a976-4a16611449cb"
      },
      "execution_count": 43,
      "outputs": [
        {
          "output_type": "stream",
          "name": "stdout",
          "text": [
            "enter the email_id:ssvarma6264@gmail.com\n",
            "name:varma\n",
            "      address:sompeta\n",
            "      dob:15-08-1998\n",
            "      email_id:ssvarma6264@gmail.com\n"
          ]
        }
      ]
    },
    {
      "cell_type": "code",
      "source": [
        "#reserve keywords in python\n",
        "\n",
        "\"\"\"\n",
        "and\n",
        "except\n",
        "lambda\n",
        "with\n",
        "as\n",
        "finally\n",
        "nonlocal\n",
        "while\n",
        "assert\n",
        "false\n",
        "None\n",
        "yield\n",
        "break\n",
        "for\n",
        "not\n",
        "\n",
        "class\n",
        "from\n",
        "or\n",
        "\n",
        "continue\n",
        "global\n",
        "pass\n",
        "\n",
        "def\n",
        "if\n",
        "raise\n",
        "\n",
        "del\n",
        "import\n",
        "return\n",
        "\n",
        "elif\n",
        "in\n",
        "True\n",
        "\n",
        "else\n",
        "is\n",
        "try\"\"\""
      ],
      "metadata": {
        "colab": {
          "base_uri": "https://localhost:8080/",
          "height": 53
        },
        "id": "n5Cj-Z-_luxX",
        "outputId": "551acc8e-558e-4bad-c678-04c1146eeca1"
      },
      "execution_count": 46,
      "outputs": [
        {
          "output_type": "execute_result",
          "data": {
            "text/plain": [
              "'\\nand\\nexcept\\nlambda\\nwith\\nas\\nfinally\\nnonlocal\\nwhile\\nassert\\nfalse\\nNone\\nyield\\nbreak\\nfor\\nnot\\n\\nclass\\nfrom\\nor\\n\\ncontinue\\nglobal\\npass\\n\\ndef\\nif\\nraise\\n\\ndel\\nimport\\nreturn\\n\\nelif\\nin\\nTrue\\n\\nelse\\nis\\ntry'"
            ],
            "application/vnd.google.colaboratory.intrinsic+json": {
              "type": "string"
            }
          },
          "metadata": {},
          "execution_count": 46
        }
      ]
    },
    {
      "cell_type": "code",
      "source": [],
      "metadata": {
        "id": "Ql-qzMh0oWVp"
      },
      "execution_count": null,
      "outputs": []
    }
  ]
}