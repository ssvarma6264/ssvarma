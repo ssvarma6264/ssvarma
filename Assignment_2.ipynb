{
  "nbformat": 4,
  "nbformat_minor": 0,
  "metadata": {
    "colab": {
      "provenance": []
    },
    "kernelspec": {
      "name": "python3",
      "display_name": "Python 3"
    },
    "language_info": {
      "name": "python"
    }
  },
  "cells": [
    {
      "cell_type": "markdown",
      "source": [
        "### 1. What is indentation error? Why indentation is important? Give one simple example?"
      ],
      "metadata": {
        "id": "KJwA-3bjOOEU"
      }
    },
    {
      "cell_type": "markdown",
      "source": [
        "if we are not providing the proper space indentation error will come,"
      ],
      "metadata": {
        "id": "uRDecHekOS6U"
      }
    },
    {
      "cell_type": "code",
      "source": [
        "raining = True\n",
        "\n",
        "if raining:\n",
        "print(\"Lets do work from home\")\n",
        "else:\n",
        "    print(\"Lets go to office\")"
      ],
      "metadata": {
        "colab": {
          "base_uri": "https://localhost:8080/",
          "height": 134
        },
        "id": "dECiDHlROvhY",
        "outputId": "01fe463c-f452-4b52-e67f-e3959fdaf476"
      },
      "execution_count": 10,
      "outputs": [
        {
          "output_type": "error",
          "ename": "IndentationError",
          "evalue": "ignored",
          "traceback": [
            "\u001b[0;36m  File \u001b[0;32m\"<ipython-input-10-a554f40c389a>\"\u001b[0;36m, line \u001b[0;32m4\u001b[0m\n\u001b[0;31m    print(\"Lets do work from home\") # This statemen exectuted\u001b[0m\n\u001b[0m        ^\u001b[0m\n\u001b[0;31mIndentationError\u001b[0m\u001b[0;31m:\u001b[0m expected an indented block\n"
          ]
        }
      ]
    },
    {
      "cell_type": "markdown",
      "source": [
        "### 2. Correct the following code and write the comment where you made the correction?\n",
        "\n",
        "  ```python\n",
        "  class_started = bool(input(\"Hey friend, is class started?: [0-False/1-True]\"))\n",
        "\n",
        "  if class_started:\n",
        "      print(\"Since class started...\")\n",
        "      print(\"Lets concentrate\")\n",
        "  else:\n",
        "      print(\"Since class is not started...\")\n",
        "      print(\"let's revise\")    \n",
        "  ```\n",
        "\n",
        "  **HINT:** Refer your data type conversion class"
      ],
      "metadata": {
        "id": "vdcaceDozDiS"
      }
    },
    {
      "cell_type": "code",
      "source": [
        "class_started = bool(int(input(\"Hey friend, is class started?: [0-False/1-True]\")))\n",
        "\n",
        "\n",
        "if class_started:\n",
        "  print(\"Since class started...\")\n",
        "  print(\"Lets concentrate\")\n",
        "else:\n",
        "  print(\"Since class is not started...\")\n",
        "  print(\"let's revise\")    "
      ],
      "metadata": {
        "colab": {
          "base_uri": "https://localhost:8080/"
        },
        "id": "R6wj8jpz2THB",
        "outputId": "61d9bebe-b6dd-4655-d776-fb43f6ffa6e9"
      },
      "execution_count": null,
      "outputs": [
        {
          "output_type": "stream",
          "name": "stdout",
          "text": [
            "Hey friend, is class started?: [0-False/1-True]0\n",
            "Since class is not started...\n",
            "let's revise\n"
          ]
        }
      ]
    },
    {
      "cell_type": "markdown",
      "source": [
        "### 4.Take 3 variables and assign integer values to them. Find the largest variable, by only using the if and else conditions."
      ],
      "metadata": {
        "id": "HqK-Cb_KBhVv"
      }
    },
    {
      "cell_type": "code",
      "source": [
        "a = 23\n",
        "b = 43\n",
        "c = 63\n",
        "if a>b and a>c:\n",
        "  print(\"a is the largest number\")\n",
        "elif b>a and b>c:\n",
        "  print(\"b is the largest number\")\n",
        "else:\n",
        "  print(\"c is the largest number\")"
      ],
      "metadata": {
        "colab": {
          "base_uri": "https://localhost:8080/"
        },
        "id": "yTm0i-Iu9JF-",
        "outputId": "2e95db47-70e4-4cd6-ef26-548b39f8c254"
      },
      "execution_count": null,
      "outputs": [
        {
          "output_type": "stream",
          "name": "stdout",
          "text": [
            "c is the largest number\n"
          ]
        }
      ]
    },
    {
      "cell_type": "markdown",
      "source": [
        "### 5. What would be the solution?\n",
        "    1. True\n",
        "    2. False"
      ],
      "metadata": {
        "id": "c68qCNh6CHqG"
      }
    },
    {
      "cell_type": "code",
      "source": [
        "a = 6\n",
        "b = 10\n",
        "print(not( not a == 10 or not b == 10) )"
      ],
      "metadata": {
        "colab": {
          "base_uri": "https://localhost:8080/"
        },
        "id": "tHyXLapi_q5Y",
        "outputId": "3fd0211a-7fac-429b-8eb3-a4372c4503a5"
      },
      "execution_count": null,
      "outputs": [
        {
          "output_type": "stream",
          "name": "stdout",
          "text": [
            "False\n"
          ]
        }
      ]
    },
    {
      "cell_type": "markdown",
      "source": [
        "### 6. Find the answer as well as find out the reason behind the result? -"
      ],
      "metadata": {
        "id": "FPFh8rCCChzB"
      }
    },
    {
      "cell_type": "code",
      "source": [
        "A = 5.0\n",
        "B = 10/2\n",
        "print(A is B)"
      ],
      "metadata": {
        "colab": {
          "base_uri": "https://localhost:8080/"
        },
        "id": "U4FuX_8uB0X3",
        "outputId": "2dc3288e-5064-421a-aef8-41eabb98e7f0"
      },
      "execution_count": null,
      "outputs": [
        {
          "output_type": "stream",
          "name": "stdout",
          "text": [
            "False\n"
          ]
        }
      ]
    },
    {
      "cell_type": "code",
      "source": [
        "A = 5.0\n",
        "B = int(10/2)\n",
        "print(A is B)"
      ],
      "metadata": {
        "colab": {
          "base_uri": "https://localhost:8080/"
        },
        "id": "shpoMWkMCu1Z",
        "outputId": "db047537-5fd6-4515-d03a-53f466732633"
      },
      "execution_count": null,
      "outputs": [
        {
          "output_type": "stream",
          "name": "stdout",
          "text": [
            "False\n"
          ]
        }
      ]
    },
    {
      "cell_type": "code",
      "source": [
        "A = 5.0\n",
        "B = float(10/2)\n",
        "print(A is B)"
      ],
      "metadata": {
        "colab": {
          "base_uri": "https://localhost:8080/"
        },
        "id": "UxyFDce0C-Dv",
        "outputId": "a3abfe22-ca4b-4ef1-b75d-a90c0c59736f"
      },
      "execution_count": null,
      "outputs": [
        {
          "output_type": "stream",
          "name": "stdout",
          "text": [
            "False\n"
          ]
        }
      ]
    },
    {
      "cell_type": "markdown",
      "source": [
        "because of datatype we are getting the results"
      ],
      "metadata": {
        "id": "26LKEQ3FEcmQ"
      }
    },
    {
      "cell_type": "markdown",
      "source": [
        " ### 7. Write a program that asks the user to enter a number. You should print out a message to the user, either “That number is divisible by either 3 or 5”, or “That number is not divisible by either 3 or 5”. Be sure to consider the data type of the input you are taking in from the user. Use a single if/else block to solve this problem."
      ],
      "metadata": {
        "id": "Lr-LNDYlFM_8"
      }
    },
    {
      "cell_type": "code",
      "source": [
        "number = int(input(\"enter the number : \"))\n",
        "if (number % 3 == 0 or number % 5 == 0):\n",
        "  print(\"entered number is divisible by either 3 or 5\")\n",
        "else:\n",
        "  print(\"entered number is not divisible by either 3 or 5\") \n"
      ],
      "metadata": {
        "id": "upCjOgSKEL8j",
        "colab": {
          "base_uri": "https://localhost:8080/"
        },
        "outputId": "49c2d3ae-3f80-4812-d44a-0165aa9bf85a"
      },
      "execution_count": 9,
      "outputs": [
        {
          "output_type": "stream",
          "name": "stdout",
          "text": [
            "enter the number : 35\n",
            "entered number is divisible by either 3 or 5\n"
          ]
        }
      ]
    },
    {
      "cell_type": "markdown",
      "source": [
        "### 10. Check whether a year is leap year or not. Use nested if...else to solve this problem. A leap year is exactly divisible by 4 except for century years (years ending with 00). The century year is a leap year only if it is perfectly divisible by 400."
      ],
      "metadata": {
        "id": "3umJaeiVJmTT"
      }
    },
    {
      "cell_type": "code",
      "source": [
        "year = int(input(\"Enter the year : \"))\n",
        "if ((year%4 == 0) and (year%100 != 0)) or (year%400 == 0):\n",
        "  print(\"entered yeaar is a leap year\")\n",
        "else:\n",
        "  print(\"entered year is not a leap year\")"
      ],
      "metadata": {
        "colab": {
          "base_uri": "https://localhost:8080/"
        },
        "id": "s0SD4ujuKkVl",
        "outputId": "cfcedf79-ec95-4bb4-b904-1cd71f519656"
      },
      "execution_count": 6,
      "outputs": [
        {
          "output_type": "stream",
          "name": "stdout",
          "text": [
            "Enter the year : 1995\n",
            "entered year is not a leap year\n"
          ]
        }
      ]
    },
    {
      "cell_type": "markdown",
      "source": [
        "### 8. Take user input for length and width. Then calculate the area of rectangle. Also print as per length and width whether its a square of rectangle.\n"
      ],
      "metadata": {
        "id": "NUgr4IqLQXyR"
      }
    },
    {
      "cell_type": "code",
      "source": [
        "length = int(input(\"Enter the length of the rectangle : \"))\n",
        "width  = int(input(\"Enter the width of the rectangle : \"))\n",
        "area = length * width\n",
        "print(f\"area of a rectangle : {area}\")"
      ],
      "metadata": {
        "colab": {
          "base_uri": "https://localhost:8080/"
        },
        "id": "ig7vp7WBK_rL",
        "outputId": "d5f0428d-a86c-42de-db21-d6f6065e09bd"
      },
      "execution_count": 22,
      "outputs": [
        {
          "output_type": "stream",
          "name": "stdout",
          "text": [
            "Enter the length of the rectangle : 5\n",
            "Enter the width of the rectangle : 4\n",
            "area of a rectangle : 20\n"
          ]
        }
      ]
    },
    {
      "cell_type": "markdown",
      "source": [
        "### 9. Take two variable radius_1 and radius_2 and calculate the area of circle_1 and circle_2. Also print which circle has large area. If area is equal then print area is equal."
      ],
      "metadata": {
        "id": "g6q8isFnUIEe"
      }
    },
    {
      "cell_type": "code",
      "source": [
        "var_radius_1 = 4\n",
        "var_radius_2 = 5\n",
        "area_of_a_circle_1 = (3.14*(var_radius_1)**2)\n",
        "area_of_a_circle_2 = (3.14*(var_radius_2)**2)\n",
        "print(f\"area of a circle 1 : {area_of_a_circle_1}\")\n",
        "print(f\"area of a circle 2 : {area_of_a_circle_2}\")\n",
        "if ((area_of_a_circle_1) > (area_of_a_circle_2)):\n",
        "  print(\"area of a circle 1 has a  largest area\")\n",
        "elif((area_of_a_circle_2) > (area_of_a_circle_1)):\n",
        "  print(\"area of a circle 2 has a largest area\")\n",
        "else:\n",
        "  print(\"areas of a two circles are equal\")"
      ],
      "metadata": {
        "colab": {
          "base_uri": "https://localhost:8080/"
        },
        "id": "DYPUaSpeRR7y",
        "outputId": "3aac2995-767f-4ae5-c613-93796a59accc"
      },
      "execution_count": 21,
      "outputs": [
        {
          "output_type": "stream",
          "name": "stdout",
          "text": [
            "area of a circle 1 : 50.24\n",
            "area of a circle 2 : 78.5\n",
            "area of a circle 2 has a largest area\n"
          ]
        }
      ]
    },
    {
      "cell_type": "code",
      "source": [],
      "metadata": {
        "id": "5ixhIAaUUqeU"
      },
      "execution_count": null,
      "outputs": []
    }
  ]
}